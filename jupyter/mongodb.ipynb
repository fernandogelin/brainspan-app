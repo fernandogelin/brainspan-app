{
 "cells": [
  {
   "cell_type": "code",
   "execution_count": 1,
   "metadata": {
    "collapsed": false
   },
   "outputs": [
    {
     "data": {
      "text/html": [
       "\n",
       "    <div class=\"bk-banner\">\n",
       "        <a href=\"http://bokeh.pydata.org\" target=\"_blank\" class=\"bk-logo bk-logo-small bk-logo-notebook\"></a>\n",
       "        <span id=\"b3616be3-f707-4b2d-bcbc-b6dcb92d19cd\">Loading BokehJS ...</span>\n",
       "    </div>"
      ]
     },
     "metadata": {},
     "output_type": "display_data"
    },
    {
     "data": {
      "application/javascript": [
       "\n",
       "(function(global) {\n",
       "  function now() {\n",
       "    return new Date();\n",
       "  }\n",
       "\n",
       "  if (typeof (window._bokeh_onload_callbacks) === \"undefined\") {\n",
       "    window._bokeh_onload_callbacks = [];\n",
       "  }\n",
       "\n",
       "  function run_callbacks() {\n",
       "    window._bokeh_onload_callbacks.forEach(function(callback) { callback() });\n",
       "    delete window._bokeh_onload_callbacks\n",
       "    console.info(\"Bokeh: all callbacks have finished\");\n",
       "  }\n",
       "\n",
       "  function load_libs(js_urls, callback) {\n",
       "    window._bokeh_onload_callbacks.push(callback);\n",
       "    if (window._bokeh_is_loading > 0) {\n",
       "      console.log(\"Bokeh: BokehJS is being loaded, scheduling callback at\", now());\n",
       "      return null;\n",
       "    }\n",
       "    if (js_urls == null || js_urls.length === 0) {\n",
       "      run_callbacks();\n",
       "      return null;\n",
       "    }\n",
       "    console.log(\"Bokeh: BokehJS not loaded, scheduling load and callback at\", now());\n",
       "    window._bokeh_is_loading = js_urls.length;\n",
       "    for (var i = 0; i < js_urls.length; i++) {\n",
       "      var url = js_urls[i];\n",
       "      var s = document.createElement('script');\n",
       "      s.src = url;\n",
       "      s.async = false;\n",
       "      s.onreadystatechange = s.onload = function() {\n",
       "        window._bokeh_is_loading--;\n",
       "        if (window._bokeh_is_loading === 0) {\n",
       "          console.log(\"Bokeh: all BokehJS libraries loaded\");\n",
       "          run_callbacks()\n",
       "        }\n",
       "      };\n",
       "      s.onerror = function() {\n",
       "        console.warn(\"failed to load library \" + url);\n",
       "      };\n",
       "      console.log(\"Bokeh: injecting script tag for BokehJS library: \", url);\n",
       "      document.getElementsByTagName(\"head\")[0].appendChild(s);\n",
       "    }\n",
       "  };\n",
       "\n",
       "  var js_urls = ['https://cdn.pydata.org/bokeh/release/bokeh-0.11.1.min.js', 'https://cdn.pydata.org/bokeh/release/bokeh-widgets-0.11.1.min.js', 'https://cdn.pydata.org/bokeh/release/bokeh-compiler-0.11.1.min.js'];\n",
       "\n",
       "  var inline_js = [\n",
       "    function(Bokeh) {\n",
       "      Bokeh.set_log_level(\"info\");\n",
       "    },\n",
       "    \n",
       "    function(Bokeh) {\n",
       "      Bokeh.$(\"#b3616be3-f707-4b2d-bcbc-b6dcb92d19cd\").text(\"BokehJS successfully loaded\");\n",
       "    },\n",
       "    function(Bokeh) {\n",
       "      console.log(\"Bokeh: injecting CSS: https://cdn.pydata.org/bokeh/release/bokeh-0.11.1.min.css\");\n",
       "      Bokeh.embed.inject_css(\"https://cdn.pydata.org/bokeh/release/bokeh-0.11.1.min.css\");\n",
       "      console.log(\"Bokeh: injecting CSS: https://cdn.pydata.org/bokeh/release/bokeh-widgets-0.11.1.min.css\");\n",
       "      Bokeh.embed.inject_css(\"https://cdn.pydata.org/bokeh/release/bokeh-widgets-0.11.1.min.css\");\n",
       "    }\n",
       "  ];\n",
       "\n",
       "  function run_inline_js() {\n",
       "    for (var i = 0; i < inline_js.length; i++) {\n",
       "      inline_js[i](window.Bokeh);\n",
       "    }\n",
       "  }\n",
       "\n",
       "  if (window._bokeh_is_loading === 0) {\n",
       "    console.log(\"Bokeh: BokehJS loaded, going straight to plotting\");\n",
       "    run_inline_js();\n",
       "  } else {\n",
       "    load_libs(js_urls, function() {\n",
       "      console.log(\"Bokeh: BokehJS plotting callback run at\", now());\n",
       "      run_inline_js();\n",
       "    });\n",
       "  }\n",
       "}(this));"
      ]
     },
     "metadata": {},
     "output_type": "display_data"
    }
   ],
   "source": [
    "from math import pi\n",
    "import pandas as pd\n",
    "import pandas.io.sql as psql\n",
    "import numpy as np\n",
    "import sqlite3 as sql\n",
    "import blaze as bz\n",
    "from odo import odo\n",
    "from scipy.signal import savgol_filter\n",
    "from bokeh.plotting import figure, output_notebook, show, ColumnDataSource, vplot, output_server, hplot\n",
    "from bokeh.models import CustomJS, VBox, HBox, Select, MultiSelect\n",
    "from bokeh.io import output_file, show, vform, curdoc\n",
    "from bokeh.charts import BoxPlot\n",
    "from bokeh.palettes import RdPu9\n",
    "output_notebook()"
   ]
  },
  {
   "cell_type": "markdown",
   "metadata": {},
   "source": [
    "# Inserting records into MongoDB collection"
   ]
  },
  {
   "cell_type": "code",
   "execution_count": 115,
   "metadata": {
    "collapsed": false
   },
   "outputs": [],
   "source": [
    "import json\n",
    "from pprint import pprint\n",
    "\n",
    "with open('../brainspan-data/brainspan.json') as data_file:    \n",
    "    data = json.load(data_file)"
   ]
  },
  {
   "cell_type": "code",
   "execution_count": 2,
   "metadata": {
    "collapsed": false
   },
   "outputs": [],
   "source": [
    "from pymongo import MongoClient\n",
    "client = MongoClient(\"mongodb://localhost:27017\")\n",
    "db = client.brainspan"
   ]
  },
  {
   "cell_type": "code",
   "execution_count": 3,
   "metadata": {
    "collapsed": false
   },
   "outputs": [
    {
     "data": {
      "text/plain": [
       "27445024"
      ]
     },
     "execution_count": 3,
     "metadata": {},
     "output_type": "execute_result"
    }
   ],
   "source": [
    "num_records = db.brainspan2.find().count()\n",
    "num_records"
   ]
  },
  {
   "cell_type": "code",
   "execution_count": null,
   "metadata": {
    "collapsed": true
   },
   "outputs": [],
   "source": [
    "db.brainspan2.ensure_index({\"gene\":1})"
   ]
  },
  {
   "cell_type": "code",
   "execution_count": null,
   "metadata": {
    "collapsed": false
   },
   "outputs": [],
   "source": [
    "for r in data:\n",
    "    db.brainspan.insert_one(r)\n",
    "# or, much faster\n",
    "! mongoimport -d brainspan -c brainspan2 --jsonArray --file brainspan.json "
   ]
  },
  {
   "cell_type": "code",
   "execution_count": null,
   "metadata": {
    "collapsed": true
   },
   "outputs": [],
   "source": []
  },
  {
   "cell_type": "code",
   "execution_count": null,
   "metadata": {
    "collapsed": true
   },
   "outputs": [],
   "source": [
    "num_records"
   ]
  },
  {
   "cell_type": "code",
   "execution_count": 42,
   "metadata": {
    "collapsed": false
   },
   "outputs": [],
   "source": [
    "cursor = db.brainspan.find({\"gene\":\"MARCH7\"})"
   ]
  },
  {
   "cell_type": "code",
   "execution_count": 48,
   "metadata": {
    "collapsed": false
   },
   "outputs": [
    {
     "data": {
      "text/plain": [
       "u'primary somatosensory cortex (area S1, areas 3,1,2)'"
      ]
     },
     "execution_count": 48,
     "metadata": {},
     "output_type": "execute_result"
    }
   ],
   "source": [
    "cursor[523]"
   ]
  },
  {
   "cell_type": "code",
   "execution_count": 49,
   "metadata": {
    "collapsed": true
   },
   "outputs": [],
   "source": [
    "df = pd.DataFrame(list(cursor))"
   ]
  },
  {
   "cell_type": "code",
   "execution_count": 93,
   "metadata": {
    "collapsed": false
   },
   "outputs": [
    {
     "data": {
      "text/plain": [
       "{u'_id': ObjectId('56de2aa2c5e57333912619e4'),\n",
       " u'age': u'13 pcw',\n",
       " u'gene': u'WDR7',\n",
       " u'rpkm': 10.008071,\n",
       " u'structure_name': u'striatum'}"
      ]
     },
     "execution_count": 93,
     "metadata": {},
     "output_type": "execute_result"
    }
   ],
   "source": [
    "db.brainspan.find_one({\"age\": \"13 pcw\", \"gene\": {\"$in\": [\"WDR4\",\"WDR7\"]}})"
   ]
  },
  {
   "cell_type": "code",
   "execution_count": 99,
   "metadata": {
    "collapsed": false
   },
   "outputs": [
    {
     "data": {
      "text/plain": [
       "82"
      ]
     },
     "execution_count": 99,
     "metadata": {},
     "output_type": "execute_result"
    }
   ],
   "source": [
    "gene = \"MARCH7\"\n",
    "query = {\"gene\":gene, \"structure_name\": {\"$in\": structures}}\n",
    "cursor = db.brainspan.find(query)\n",
    "cursor.count()"
   ]
  },
  {
   "cell_type": "code",
   "execution_count": 108,
   "metadata": {
    "collapsed": true
   },
   "outputs": [],
   "source": [
    "structures = [u'occipital neocortex',\n",
    " u'primary motor-sensory cortex (samples)',\n",
    " u'amygdaloid complex',\n",
    " u'medial ganglionic eminence',\n",
    " u'posterior (caudal) superior temporal cortex (area 22c)',\n",
    " u'upper (rostral) rhombic lip',\n",
    " u'caudal ganglionic eminence', \n",
    " u'dorsal thalamus']"
   ]
  },
  {
   "cell_type": "code",
   "execution_count": 110,
   "metadata": {
    "collapsed": true
   },
   "outputs": [],
   "source": [
    "categories=[u'8 pcw', u'9 pcw', u'12 pcw', u'13 pcw', u'16 pcw', u'17 pcw', \n",
    "        u'19 pcw', u'21 pcw', u'24 pcw', u'25 pcw', u'26 pcw', u'35 pcw',\n",
    "        u'37 pcw', u'4 mos', u'10 mos', u'1 yrs', u'2 yrs', u'3 yrs',\n",
    "        u'4 yrs', u'8 yrs', u'11 yrs', u'13 yrs', u'15 yrs', u'18 yrs',\n",
    "        u'19 yrs', u'21 yrs', u'23 yrs', u'30 yrs', u'36 yrs', u'37 yrs',\n",
    "        u'40 yrs']\n",
    "sorterIndex = dict(zip(categories,range(len(categories))))\n",
    "    \n",
    "def get_dataframes(gene, structures):\n",
    "    query = {\"gene\":gene, \"structure_name\": {\"$in\": structures}}\n",
    "    cursor = db.brainspan.find(query)\n",
    "    df = pd.DataFrame(list(cursor))\n",
    "        \n",
    "    df_line = pd.pivot_table(df, values='rpkm', index='age', aggfunc=np.mean).to_frame().reindex(index=list(df['age'].unique()))\n",
    "    df_line = df_line.reset_index()\n",
    "    df_line['rank'] = df_line['age'].map(sorterIndex)\n",
    "    df_line.sort_values(by='rank', ascending = True, inplace = True)\n",
    "    df_line.drop('rank', 1, inplace = True)\n",
    "    if len(structures)%2 == 0:\n",
    "        window = len(structures) + 1\n",
    "    else:\n",
    "        window = len(structures)\n",
    "    df_line['rpkm_smooth'] = savgol_filter(df_line['rpkm'], window, 3)\n",
    "    \n",
    "    return df, df_line"
   ]
  },
  {
   "cell_type": "code",
   "execution_count": 111,
   "metadata": {
    "collapsed": false
   },
   "outputs": [],
   "source": [
    "df, df_line = get_dataframes(gene)"
   ]
  },
  {
   "cell_type": "code",
   "execution_count": 112,
   "metadata": {
    "collapsed": false
   },
   "outputs": [
    {
     "data": {
      "text/html": [
       "<div>\n",
       "<table border=\"1\" class=\"dataframe\">\n",
       "  <thead>\n",
       "    <tr style=\"text-align: right;\">\n",
       "      <th></th>\n",
       "      <th>age</th>\n",
       "      <th>rpkm</th>\n",
       "      <th>rpkm_smooth</th>\n",
       "    </tr>\n",
       "  </thead>\n",
       "  <tbody>\n",
       "    <tr>\n",
       "      <th>0</th>\n",
       "      <td>8 pcw</td>\n",
       "      <td>24.131882</td>\n",
       "      <td>23.186397</td>\n",
       "    </tr>\n",
       "    <tr>\n",
       "      <th>1</th>\n",
       "      <td>9 pcw</td>\n",
       "      <td>23.190164</td>\n",
       "      <td>26.342021</td>\n",
       "    </tr>\n",
       "    <tr>\n",
       "      <th>2</th>\n",
       "      <td>12 pcw</td>\n",
       "      <td>28.487062</td>\n",
       "      <td>25.782786</td>\n",
       "    </tr>\n",
       "    <tr>\n",
       "      <th>3</th>\n",
       "      <td>13 pcw</td>\n",
       "      <td>23.622567</td>\n",
       "      <td>22.827994</td>\n",
       "    </tr>\n",
       "    <tr>\n",
       "      <th>4</th>\n",
       "      <td>16 pcw</td>\n",
       "      <td>17.211717</td>\n",
       "      <td>18.796946</td>\n",
       "    </tr>\n",
       "    <tr>\n",
       "      <th>5</th>\n",
       "      <td>17 pcw</td>\n",
       "      <td>16.686467</td>\n",
       "      <td>15.522231</td>\n",
       "    </tr>\n",
       "    <tr>\n",
       "      <th>6</th>\n",
       "      <td>19 pcw</td>\n",
       "      <td>8.467642</td>\n",
       "      <td>15.105746</td>\n",
       "    </tr>\n",
       "    <tr>\n",
       "      <th>7</th>\n",
       "      <td>21 pcw</td>\n",
       "      <td>17.679492</td>\n",
       "      <td>16.434608</td>\n",
       "    </tr>\n",
       "    <tr>\n",
       "      <th>8</th>\n",
       "      <td>24 pcw</td>\n",
       "      <td>16.986846</td>\n",
       "      <td>17.964237</td>\n",
       "    </tr>\n",
       "    <tr>\n",
       "      <th>9</th>\n",
       "      <td>26 pcw</td>\n",
       "      <td>25.998723</td>\n",
       "      <td>17.131682</td>\n",
       "    </tr>\n",
       "    <tr>\n",
       "      <th>10</th>\n",
       "      <td>37 pcw</td>\n",
       "      <td>14.101855</td>\n",
       "      <td>16.535048</td>\n",
       "    </tr>\n",
       "    <tr>\n",
       "      <th>11</th>\n",
       "      <td>4 mos</td>\n",
       "      <td>10.870305</td>\n",
       "      <td>12.598401</td>\n",
       "    </tr>\n",
       "    <tr>\n",
       "      <th>12</th>\n",
       "      <td>10 mos</td>\n",
       "      <td>5.507993</td>\n",
       "      <td>8.797584</td>\n",
       "    </tr>\n",
       "    <tr>\n",
       "      <th>13</th>\n",
       "      <td>1 yrs</td>\n",
       "      <td>10.189583</td>\n",
       "      <td>6.111486</td>\n",
       "    </tr>\n",
       "    <tr>\n",
       "      <th>14</th>\n",
       "      <td>2 yrs</td>\n",
       "      <td>4.427911</td>\n",
       "      <td>6.685934</td>\n",
       "    </tr>\n",
       "    <tr>\n",
       "      <th>15</th>\n",
       "      <td>3 yrs</td>\n",
       "      <td>6.187166</td>\n",
       "      <td>8.227507</td>\n",
       "    </tr>\n",
       "    <tr>\n",
       "      <th>16</th>\n",
       "      <td>4 yrs</td>\n",
       "      <td>11.738246</td>\n",
       "      <td>9.150951</td>\n",
       "    </tr>\n",
       "    <tr>\n",
       "      <th>17</th>\n",
       "      <td>8 yrs</td>\n",
       "      <td>9.857166</td>\n",
       "      <td>10.037510</td>\n",
       "    </tr>\n",
       "    <tr>\n",
       "      <th>18</th>\n",
       "      <td>11 yrs</td>\n",
       "      <td>12.751880</td>\n",
       "      <td>10.830119</td>\n",
       "    </tr>\n",
       "    <tr>\n",
       "      <th>19</th>\n",
       "      <td>13 yrs</td>\n",
       "      <td>6.983153</td>\n",
       "      <td>9.330968</td>\n",
       "    </tr>\n",
       "    <tr>\n",
       "      <th>20</th>\n",
       "      <td>15 yrs</td>\n",
       "      <td>11.421102</td>\n",
       "      <td>8.343896</td>\n",
       "    </tr>\n",
       "    <tr>\n",
       "      <th>21</th>\n",
       "      <td>18 yrs</td>\n",
       "      <td>5.091534</td>\n",
       "      <td>8.582772</td>\n",
       "    </tr>\n",
       "    <tr>\n",
       "      <th>22</th>\n",
       "      <td>19 yrs</td>\n",
       "      <td>6.100521</td>\n",
       "      <td>8.248634</td>\n",
       "    </tr>\n",
       "    <tr>\n",
       "      <th>23</th>\n",
       "      <td>21 yrs</td>\n",
       "      <td>12.604999</td>\n",
       "      <td>8.571790</td>\n",
       "    </tr>\n",
       "    <tr>\n",
       "      <th>24</th>\n",
       "      <td>23 yrs</td>\n",
       "      <td>9.602331</td>\n",
       "      <td>7.813841</td>\n",
       "    </tr>\n",
       "    <tr>\n",
       "      <th>25</th>\n",
       "      <td>30 yrs</td>\n",
       "      <td>6.373534</td>\n",
       "      <td>7.812277</td>\n",
       "    </tr>\n",
       "    <tr>\n",
       "      <th>26</th>\n",
       "      <td>36 yrs</td>\n",
       "      <td>7.106058</td>\n",
       "      <td>8.207627</td>\n",
       "    </tr>\n",
       "    <tr>\n",
       "      <th>27</th>\n",
       "      <td>37 yrs</td>\n",
       "      <td>8.163678</td>\n",
       "      <td>9.133169</td>\n",
       "    </tr>\n",
       "    <tr>\n",
       "      <th>28</th>\n",
       "      <td>40 yrs</td>\n",
       "      <td>11.769880</td>\n",
       "      <td>10.722181</td>\n",
       "    </tr>\n",
       "  </tbody>\n",
       "</table>\n",
       "</div>"
      ],
      "text/plain": [
       "       age       rpkm  rpkm_smooth\n",
       "0    8 pcw  24.131882    23.186397\n",
       "1    9 pcw  23.190164    26.342021\n",
       "2   12 pcw  28.487062    25.782786\n",
       "3   13 pcw  23.622567    22.827994\n",
       "4   16 pcw  17.211717    18.796946\n",
       "5   17 pcw  16.686467    15.522231\n",
       "6   19 pcw   8.467642    15.105746\n",
       "7   21 pcw  17.679492    16.434608\n",
       "8   24 pcw  16.986846    17.964237\n",
       "9   26 pcw  25.998723    17.131682\n",
       "10  37 pcw  14.101855    16.535048\n",
       "11   4 mos  10.870305    12.598401\n",
       "12  10 mos   5.507993     8.797584\n",
       "13   1 yrs  10.189583     6.111486\n",
       "14   2 yrs   4.427911     6.685934\n",
       "15   3 yrs   6.187166     8.227507\n",
       "16   4 yrs  11.738246     9.150951\n",
       "17   8 yrs   9.857166    10.037510\n",
       "18  11 yrs  12.751880    10.830119\n",
       "19  13 yrs   6.983153     9.330968\n",
       "20  15 yrs  11.421102     8.343896\n",
       "21  18 yrs   5.091534     8.582772\n",
       "22  19 yrs   6.100521     8.248634\n",
       "23  21 yrs  12.604999     8.571790\n",
       "24  23 yrs   9.602331     7.813841\n",
       "25  30 yrs   6.373534     7.812277\n",
       "26  36 yrs   7.106058     8.207627\n",
       "27  37 yrs   8.163678     9.133169\n",
       "28  40 yrs  11.769880    10.722181"
      ]
     },
     "execution_count": 112,
     "metadata": {},
     "output_type": "execute_result"
    }
   ],
   "source": [
    "df_line"
   ]
  },
  {
   "cell_type": "code",
   "execution_count": null,
   "metadata": {
    "collapsed": true
   },
   "outputs": [],
   "source": []
  }
 ],
 "metadata": {
  "kernelspec": {
   "display_name": "Python 2",
   "language": "python",
   "name": "python2"
  },
  "language_info": {
   "codemirror_mode": {
    "name": "ipython",
    "version": 2
   },
   "file_extension": ".py",
   "mimetype": "text/x-python",
   "name": "python",
   "nbconvert_exporter": "python",
   "pygments_lexer": "ipython2",
   "version": "2.7.11"
  }
 },
 "nbformat": 4,
 "nbformat_minor": 0
}
